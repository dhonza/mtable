{
 "cells": [
  {
   "cell_type": "code",
   "execution_count": 1,
   "metadata": {},
   "outputs": [],
   "source": [
    "import numpy as np\n",
    "import pandas as pd\n",
    "import matplotlib.pyplot as plt\n",
    "import smbus2\n",
    "import time\n",
    "from IPython.core.display import display, update_display, HTML"
   ]
  },
  {
   "cell_type": "code",
   "execution_count": 1,
   "metadata": {},
   "outputs": [],
   "source": [
    "import numpy as np\n",
    "import time\n",
    "\n",
    "from gpiozero import LineSensor, Motor\n",
    "\n",
    "class MeasurementTable(object):\n",
    "    def __init__(self, \n",
    "                 motor_forward_pin=24, \n",
    "                 motor_backward_pin=23, \n",
    "                 motor_enable_pin=25,\n",
    "                 motor_speed=1.0,\n",
    "                 lsensor_pin=16, \n",
    "                 lsensor_sample_rate=300,\n",
    "                 lsensor_resolution_deg=1.0\n",
    "                ):\n",
    "        self.motor = Motor(forward=motor_forward_pin, backward=motor_backward_pin, enable=motor_enable_pin)\n",
    "        self.motor_speed = motor_speed\n",
    "        self.lsensor = LineSensor(lsensor_pin, sample_rate=lsensor_sample_rate)\n",
    "        self.lsensor_resolution_deg = lsensor_resolution_deg\n",
    "        self.reset()\n",
    "        \n",
    "        def inc():\n",
    "            self.times.append(time.time())\n",
    "            if self.fwddir:\n",
    "                self.cnt += 1\n",
    "            elif self.bckdir:\n",
    "                self.cnt -= 1\n",
    "            if self.cnt == self.target:\n",
    "                self.targetf()                \n",
    "            \n",
    "        self.lsensor.when_line = inc\n",
    "        self.lsensor.when_no_line = inc\n",
    "        \n",
    "    def state(self):\n",
    "        return {'cnt': self.cnt, 'fwddir': self.fwddir, 'bckdir': self.bckdir}\n",
    "    \n",
    "    def close(self):\n",
    "        self.lsensor.close()\n",
    "        self.reset()\n",
    "        \n",
    "    def reset(self):\n",
    "        self.cnt = 0\n",
    "        self.fwddir = False\n",
    "        self.bckdir = False\n",
    "        self.target = -1\n",
    "        self.times = []\n",
    "    \n",
    "    def waitfor(self, target, targetf):\n",
    "        self.target = target\n",
    "        self.targetf = targetf\n",
    "        \n",
    "    def rotate(self, deg):\n",
    "        if self.motor.is_active:\n",
    "            return False\n",
    "        \n",
    "        nsteps = round(deg / (self.lsensor_resolution_deg))   \n",
    "            \n",
    "        self.waitfor(self.cnt + nsteps, self.stop)\n",
    "        if nsteps > 0:\n",
    "            self.fwddir = True\n",
    "            self.bckdir = False\n",
    "            self.motor.forward()\n",
    "        else:\n",
    "            self.fwddir = False\n",
    "            self.bckdir = True\n",
    "            self.motor.backward()\n",
    "        \n",
    "        return True\n",
    "    \n",
    "    def stop(self):\n",
    "        self.motor.stop()\n",
    "        self.fwddir = False\n",
    "        self.bckdir = False"
   ]
  },
  {
   "cell_type": "code",
   "execution_count": 7,
   "metadata": {},
   "outputs": [],
   "source": [
    "mtable.close()"
   ]
  },
  {
   "cell_type": "code",
   "execution_count": 2,
   "metadata": {},
   "outputs": [],
   "source": [
    "mtable = MeasurementTable()"
   ]
  },
  {
   "cell_type": "code",
   "execution_count": 3,
   "metadata": {},
   "outputs": [
    {
     "data": {
      "text/plain": [
       "{'cnt': 0, 'fwddir': False, 'bckdir': False}"
      ]
     },
     "execution_count": 3,
     "metadata": {},
     "output_type": "execute_result"
    }
   ],
   "source": [
    "mtable.state()"
   ]
  },
  {
   "cell_type": "code",
   "execution_count": 5,
   "metadata": {},
   "outputs": [
    {
     "data": {
      "text/plain": [
       "True"
      ]
     },
     "execution_count": 5,
     "metadata": {},
     "output_type": "execute_result"
    }
   ],
   "source": [
    "mtable.rotate(-10)"
   ]
  },
  {
   "cell_type": "markdown",
   "metadata": {},
   "source": [
    "# TCRT5000 + LM393 Proximity Sensor"
   ]
  },
  {
   "cell_type": "code",
   "execution_count": 2,
   "metadata": {},
   "outputs": [],
   "source": [
    "from gpiozero import LineSensor\n",
    "from signal import pause"
   ]
  },
  {
   "cell_type": "code",
   "execution_count": 203,
   "metadata": {},
   "outputs": [],
   "source": [
    "acounter.close()"
   ]
  },
  {
   "cell_type": "code",
   "execution_count": 204,
   "metadata": {},
   "outputs": [
    {
     "name": "stdout",
     "output_type": "stream",
     "text": [
      "0b110000\n"
     ]
    }
   ],
   "source": [
    "class AngleCounter:\n",
    "    def __init__(self, pin=16, sample_rate=300, renc=None):\n",
    "        self.sensor = LineSensor(pin, sample_rate=sample_rate)\n",
    "        self.renc = renc\n",
    "        self.reset()\n",
    "        \n",
    "        def inc():\n",
    "            self.times.append(time.time())\n",
    "            if self.renc is not None:\n",
    "                self.rencdata.append(self.renc.get_deg_offset_angle())\n",
    "            self.cnt += 1\n",
    "            if self.cnt == self.target:\n",
    "                self.targetf()                \n",
    "            \n",
    "        self.sensor.when_line = inc\n",
    "        self.sensor.when_no_line = inc\n",
    "        \n",
    "    def close(self):\n",
    "        self.sensor.close()\n",
    "        \n",
    "    def reset(self):\n",
    "        self.cnt = 0\n",
    "        self.target = -1\n",
    "        self.times = []\n",
    "        self.rencdata = []\n",
    "        \n",
    "    def waitfor(self, target, f):\n",
    "        self.target = target\n",
    "        self.targetf = f\n",
    "\n",
    "renc = AS5600()\n",
    "renc.detect_magnet()\n",
    "renc.set_deg_offset()\n",
    "acounter = AngleCounter(renc=renc)"
   ]
  },
  {
   "cell_type": "code",
   "execution_count": 206,
   "metadata": {},
   "outputs": [
    {
     "data": {
      "text/plain": [
       "(0, -1, 178.505859375)"
      ]
     },
     "execution_count": 206,
     "metadata": {},
     "output_type": "execute_result"
    }
   ],
   "source": [
    "acounter.cnt, acounter.target, renc.degoffset"
   ]
  },
  {
   "cell_type": "code",
   "execution_count": 243,
   "metadata": {},
   "outputs": [],
   "source": [
    "acounter.reset()\n",
    "acounter.waitfor(360, lambda: motor.stop())\n",
    "# acounter.htmlcounter()"
   ]
  },
  {
   "cell_type": "code",
   "execution_count": 244,
   "metadata": {},
   "outputs": [],
   "source": [
    "motor.forward(1.0)"
   ]
  },
  {
   "cell_type": "code",
   "execution_count": 194,
   "metadata": {},
   "outputs": [],
   "source": [
    "acounter.reset()\n",
    "acounter.waitfor(1, lambda: motor.stop())\n",
    "motor.backward(0.3)\n",
    "# motor.forward(0.3)"
   ]
  },
  {
   "cell_type": "code",
   "execution_count": 192,
   "metadata": {},
   "outputs": [],
   "source": [
    "motor.stop()"
   ]
  },
  {
   "cell_type": "code",
   "execution_count": 245,
   "metadata": {},
   "outputs": [],
   "source": [
    "ts = np.array(acounter.times)\n",
    "angles = np.array(acounter.rencdata)\n",
    "ts -= ts[0]"
   ]
  },
  {
   "cell_type": "code",
   "execution_count": 246,
   "metadata": {},
   "outputs": [
    {
     "data": {
      "image/png": "[encoded data removed]",
      "text/plain": [
       "<Figure size 432x288 with 1 Axes>"
      ]
     },
     "metadata": {
      "needs_background": "light"
     },
     "output_type": "display_data"
    }
   ],
   "source": [
    "plt.plot(angles - np.arange(0, len(angles)) - 1);\n",
    "plt.ylim(-3, 2);"
   ]
  },
  {
   "cell_type": "code",
   "execution_count": 240,
   "metadata": {},
   "outputs": [
    {
     "data": {
      "image/png": "[encoded data removed]",
      "text/plain": [
       "<Figure size 432x288 with 1 Axes>"
      ]
     },
     "metadata": {
      "needs_background": "light"
     },
     "output_type": "display_data"
    }
   ],
   "source": [
    "plt.plot(angles - np.arange(0, len(angles)) - 1);\n",
    "plt.ylim(-3, 2);"
   ]
  },
  {
   "cell_type": "code",
   "execution_count": 242,
   "metadata": {},
   "outputs": [
    {
     "data": {
      "text/plain": [
       "118.30078125"
      ]
     },
     "execution_count": 242,
     "metadata": {},
     "output_type": "execute_result"
    }
   ],
   "source": [
    "angles[120]"
   ]
  },
  {
   "cell_type": "code",
   "execution_count": 218,
   "metadata": {},
   "outputs": [
    {
     "data": {
      "image/png": "[encoded data removed]",
      "text/plain": [
       "<Figure size 432x288 with 1 Axes>"
      ]
     },
     "metadata": {
      "needs_background": "light"
     },
     "output_type": "display_data"
    }
   ],
   "source": [
    "plt.plot(angles);"
   ]
  },
  {
   "cell_type": "code",
   "execution_count": 212,
   "metadata": {},
   "outputs": [
    {
     "data": {
      "image/png": "[encoded data removed]",
      "text/plain": [
       "<Figure size 432x288 with 1 Axes>"
      ]
     },
     "metadata": {
      "needs_background": "light"
     },
     "output_type": "display_data"
    }
   ],
   "source": [
    "plt.plot(ts);"
   ]
  },
  {
   "cell_type": "code",
   "execution_count": 247,
   "metadata": {},
   "outputs": [
    {
     "data": {
      "text/plain": [
       "0.18187952041625977"
      ]
     },
     "execution_count": 247,
     "metadata": {},
     "output_type": "execute_result"
    },
    {
     "data": {
      "image/png": "[encoded data removed]",
      "text/plain": [
       "<Figure size 432x288 with 1 Axes>"
      ]
     },
     "metadata": {
      "needs_background": "light"
     },
     "output_type": "display_data"
    }
   ],
   "source": [
    "plt.plot(np.diff(ts));\n",
    "np.median(np.diff(ts))"
   ]
  },
  {
   "cell_type": "markdown",
   "metadata": {},
   "source": [
    "# L298N Motor Driver"
   ]
  },
  {
   "cell_type": "code",
   "execution_count": 3,
   "metadata": {},
   "outputs": [],
   "source": [
    "from gpiozero import Motor\n",
    "from time import sleep"
   ]
  },
  {
   "cell_type": "code",
   "execution_count": 4,
   "metadata": {},
   "outputs": [],
   "source": [
    "in1 = 24\n",
    "in2 = 23\n",
    "en = 25\n",
    "motor = Motor(forward=in1, backward=in2, enable=en)"
   ]
  },
  {
   "cell_type": "code",
   "execution_count": 141,
   "metadata": {},
   "outputs": [],
   "source": [
    "motor.forward(0.1)"
   ]
  },
  {
   "cell_type": "code",
   "execution_count": 17,
   "metadata": {},
   "outputs": [],
   "source": [
    "motor.backward(0.5)"
   ]
  },
  {
   "cell_type": "code",
   "execution_count": 18,
   "metadata": {},
   "outputs": [],
   "source": [
    "motor.stop()"
   ]
  },
  {
   "cell_type": "code",
   "execution_count": 42,
   "metadata": {},
   "outputs": [
    {
     "ename": "KeyboardInterrupt",
     "evalue": "",
     "output_type": "error",
     "traceback": [
      "\u001b[0;31m---------------------------------------------------------------------------\u001b[0m",
      "\u001b[0;31mKeyboardInterrupt\u001b[0m                         Traceback (most recent call last)",
      "\u001b[0;32m<ipython-input-42-c1bd9196ac2a>\u001b[0m in \u001b[0;36m<module>\u001b[0;34m\u001b[0m\n\u001b[1;32m      3\u001b[0m \u001b[0msecs\u001b[0m \u001b[0;34m=\u001b[0m \u001b[0;36m60\u001b[0m\u001b[0;34m\u001b[0m\u001b[0;34m\u001b[0m\u001b[0m\n\u001b[1;32m      4\u001b[0m \u001b[0mmotor\u001b[0m\u001b[0;34m.\u001b[0m\u001b[0mforward\u001b[0m\u001b[0;34m(\u001b[0m\u001b[0mspeed\u001b[0m\u001b[0;34m)\u001b[0m\u001b[0;34m\u001b[0m\u001b[0;34m\u001b[0m\u001b[0m\n\u001b[0;32m----> 5\u001b[0;31m \u001b[0msleep\u001b[0m\u001b[0;34m(\u001b[0m\u001b[0msecs\u001b[0m\u001b[0;34m)\u001b[0m\u001b[0;34m\u001b[0m\u001b[0;34m\u001b[0m\u001b[0m\n\u001b[0m\u001b[1;32m      6\u001b[0m \u001b[0mmotor\u001b[0m\u001b[0;34m.\u001b[0m\u001b[0mbackward\u001b[0m\u001b[0;34m(\u001b[0m\u001b[0mspeed\u001b[0m\u001b[0;34m)\u001b[0m\u001b[0;34m\u001b[0m\u001b[0;34m\u001b[0m\u001b[0m\n\u001b[1;32m      7\u001b[0m \u001b[0msleep\u001b[0m\u001b[0;34m(\u001b[0m\u001b[0msecs\u001b[0m\u001b[0;34m)\u001b[0m\u001b[0;34m\u001b[0m\u001b[0;34m\u001b[0m\u001b[0m\n",
      "\u001b[0;31mKeyboardInterrupt\u001b[0m: "
     ]
    }
   ],
   "source": [
    "# speed = 0.1\n",
    "speed = 1.0\n",
    "secs = 60\n",
    "motor.forward(speed)\n",
    "sleep(secs)\n",
    "motor.backward(speed)\n",
    "sleep(secs)\n",
    "motor.stop()"
   ]
  },
  {
   "cell_type": "code",
   "execution_count": 100,
   "metadata": {},
   "outputs": [],
   "source": [
    "speed = 1.0\n",
    "secs = 0.3\n",
    "for i in range(10):\n",
    "    motor.forward(speed)\n",
    "    sleep(secs)\n",
    "    motor.backward(speed)\n",
    "    sleep(secs)\n",
    "motor.stop()"
   ]
  },
  {
   "cell_type": "code",
   "execution_count": 107,
   "metadata": {},
   "outputs": [],
   "source": [
    "secs = 0.1\n",
    "for speed in np.linspace(0.1, 1.0, 100):\n",
    "#     motor.forward(speed)\n",
    "    motor.backward(speed)\n",
    "    sleep(secs)\n",
    "motor.stop()"
   ]
  },
  {
   "cell_type": "markdown",
   "metadata": {},
   "source": [
    "# SSD1306 0.96\" OLED display"
   ]
  },
  {
   "cell_type": "markdown",
   "metadata": {},
   "source": [
    "https://learn.adafruit.com/monochrome-oled-breakouts/python-setup"
   ]
  },
  {
   "cell_type": "code",
   "execution_count": 1,
   "metadata": {},
   "outputs": [],
   "source": [
    "import board\n",
    "import busio\n",
    "import adafruit_ssd1306\n",
    "from PIL import Image, ImageDraw, ImageFont"
   ]
  },
  {
   "cell_type": "code",
   "execution_count": 2,
   "metadata": {},
   "outputs": [
    {
     "name": "stdout",
     "output_type": "stream",
     "text": [
      "[60]\n"
     ]
    }
   ],
   "source": [
    "i2c = board.I2C()\n",
    "print(i2c.scan())\n",
    "i2c.deinit()"
   ]
  },
  {
   "cell_type": "code",
   "execution_count": 4,
   "metadata": {},
   "outputs": [
    {
     "name": "stdout",
     "output_type": "stream",
     "text": [
      "[60]\n"
     ]
    }
   ],
   "source": [
    "oled_reset = None\n",
    " \n",
    "# Change these\n",
    "# to the right size for your display!\n",
    "WIDTH = 128\n",
    "HEIGHT = 64  # Change to 64 if needed\n",
    "BORDER = 5\n",
    " \n",
    "# Use for I2C.\n",
    "i2c = board.I2C()\n",
    "print(i2c.scan())\n",
    "oled = adafruit_ssd1306.SSD1306_I2C(WIDTH, HEIGHT, i2c, addr=0x3C, reset=oled_reset)"
   ]
  },
  {
   "cell_type": "code",
   "execution_count": 29,
   "metadata": {},
   "outputs": [],
   "source": [
    "oled.fill(0)\n",
    "oled.show()\n",
    "\n",
    "image = Image.new(\"1\", (oled.width, oled.height))\n",
    "\n",
    "draw = ImageDraw.Draw(image)\n",
    "\n",
    "# draw.rectangle((0, 0, oled.width, oled.height), outline=255, fill=255)\n",
    "\n",
    "# font = ImageFont.load_default()\n",
    "font = ImageFont.truetype(\"arial.ttf\", 52)\n",
    " \n",
    "text = \"350.5\"\n",
    "(font_width, font_height) = font.getsize(text)\n",
    "draw.text(\n",
    "    (oled.width // 2 - font_width // 2, oled.height // 2 - font_height // 2),\n",
    "    text,\n",
    "    font=font,\n",
    "    fill=255,\n",
    ")\n",
    "\n",
    "oled.image(image)\n",
    "oled.show()"
   ]
  },
  {
   "cell_type": "markdown",
   "metadata": {},
   "source": [
    "# AS5600 Rotary Encoder"
   ]
  },
  {
   "cell_type": "markdown",
   "metadata": {},
   "source": [
    "Connect\n",
    "* GND -> GND\n",
    "* 5V -> 5V\n",
    "* SDA -> SDA\n",
    "* SCL -> SCL\n",
    "* DIR -> 5V (or GND)"
   ]
  },
  {
   "cell_type": "code",
   "execution_count": 169,
   "metadata": {},
   "outputs": [
    {
     "name": "stdout",
     "output_type": "stream",
     "text": [
      "0b110000\n"
     ]
    },
    {
     "data": {
      "text/plain": [
       "48"
      ]
     },
     "execution_count": 169,
     "metadata": {},
     "output_type": "execute_result"
    }
   ],
   "source": [
    "class AS5600:\n",
    "    # inspired by https://github.com/m-rtijn/mpu6050\n",
    "    # and https://github.com/Seeed-Studio/Seeed_Arduino_AS5600\n",
    "    \n",
    "    ZMCO = 0x00\n",
    "    ZPOS_HI = 0x01\n",
    "    ZPOS_LO = 0x02\n",
    "    MPOS_HI = 0x03\n",
    "    MPOS_LO = 0x04\n",
    "    MANG_HI = 0x05\n",
    "    MANG_LO = 0x06\n",
    "    CONF_HI = 0x07    \n",
    "    CONF_LO = 0x08\n",
    "    RAW_ANG_HI = 0x0c\n",
    "    RAW_ANG_LO = 0x0d\n",
    "    ANG_HI = 0x0e\n",
    "    ANG_LO = 0x0f\n",
    "    STATUS = 0x0b\n",
    "    AGC = 0x1a\n",
    "    MAG_HI = 0x1b\n",
    "    MAG_LO = 0x1c\n",
    "    BURN = 0xff\n",
    "\n",
    "    def __init__(self, channel = 1, address = 0x36):\n",
    "        self.bus = smbus2.SMBus(channel)\n",
    "        self.address = address\n",
    "        self.degoffset = 0.0\n",
    "\n",
    "    def read_i2c_word(self, register):\n",
    "        \"\"\"Read two i2c registers and combine them.\n",
    "        register -- the first register to read from.\n",
    "        Returns the combined read results.\n",
    "        \"\"\"\n",
    "        value = self.bus.read_word_data(self.address, register+1)\n",
    "\n",
    "        if (value >= 0x8000):\n",
    "            return -((65535 - value) + 1)\n",
    "        else:\n",
    "            return value\n",
    "        \n",
    "    def write_i2c_word(self, register, value):\n",
    "        self.bus.write_word_data(self.address, register+1, value)\n",
    "\n",
    "\n",
    "    def detect_magnet(self):\n",
    "        # 0 0 MD ML MH 0 0 0\n",
    "        # MD Magnet was detected\n",
    "        # ML AGC maximum gain overflow, magnet too weak\n",
    "        # MH AGC minimum gain overflow, magnet too strong\n",
    "        raw_data = self.bus.read_byte_data(self.address, self.STATUS) & 0x38\n",
    "        print(bin(raw_data))\n",
    "        return raw_data\n",
    "    \n",
    "    def get_agc(self):\n",
    "        return self.bus.read_byte_data(self.address, self.AGC)\n",
    "\n",
    "    def get_end_position(self):\n",
    "        return self.read_i2c_word(self.MPOS_HI)\n",
    "    \n",
    "    def set_end_position(self, value):\n",
    "        return self.write_i2c_word(self.MPOS_HI, value)\n",
    "    \n",
    "    def get_scaled_angle(self):\n",
    "        return self.read_i2c_word(self.ANG_HI)\n",
    "    \n",
    "    def get_magnitude(self):\n",
    "        return self.read_i2c_word(self.MAG_HI)\n",
    "\n",
    "    def get_max_angle(self):\n",
    "        return self.read_i2c_word(self.MANG_HI)\n",
    "    \n",
    "    def get_start_position(self):\n",
    "        return self.read_i2c_word(self.ZPOS_HI)\n",
    "    \n",
    "    def set_start_position(self, value):\n",
    "        return self.write_i2c_word(self.ZPOS_HI, value)\n",
    "    \n",
    "    def get_raw_angle(self):\n",
    "        return self.read_i2c_word(self.RAW_ANG_HI)\n",
    "\n",
    "    def get_deg_angle(self, degoffset=0.0):\n",
    "        return (360.0 * ams.get_raw_angle() / 4096.0 - degoffset) % 360.0\n",
    "    \n",
    "    def get_deg_offset_angle(self):\n",
    "        return self.get_deg_angle(degoffset=self.degoffset)\n",
    "    \n",
    "    def set_deg_offset(self, degoffset=None):\n",
    "        degoffset = self.get_deg_angle() if degoffset is None else degoffset \n",
    "        self.degoffset = degoffset\n",
    "    \n",
    "ams = AS5600()\n",
    "ams.detect_magnet()"
   ]
  },
  {
   "cell_type": "code",
   "execution_count": 171,
   "metadata": {},
   "outputs": [
    {
     "data": {
      "text/plain": [
       "178.154296875"
      ]
     },
     "execution_count": 171,
     "metadata": {},
     "output_type": "execute_result"
    }
   ],
   "source": [
    "ams.degoffset"
   ]
  },
  {
   "cell_type": "code",
   "execution_count": 170,
   "metadata": {},
   "outputs": [],
   "source": [
    "ams.set_deg_offset()"
   ]
  },
  {
   "cell_type": "code",
   "execution_count": 7,
   "metadata": {},
   "outputs": [],
   "source": [
    "bus = ams.bus"
   ]
  },
  {
   "cell_type": "code",
   "execution_count": null,
   "metadata": {},
   "outputs": [],
   "source": [
    "ams"
   ]
  },
  {
   "cell_type": "code",
   "execution_count": 160,
   "metadata": {},
   "outputs": [
    {
     "data": {
      "text/plain": [
       "178.154296875"
      ]
     },
     "execution_count": 160,
     "metadata": {},
     "output_type": "execute_result"
    }
   ],
   "source": [
    "off = ams.get_deg_angle()\n",
    "off"
   ]
  },
  {
   "cell_type": "code",
   "execution_count": 8,
   "metadata": {},
   "outputs": [
    {
     "data": {
      "text/plain": [
       "(0, 3840)"
      ]
     },
     "execution_count": 8,
     "metadata": {},
     "output_type": "execute_result"
    }
   ],
   "source": [
    "ams.get_start_position(), ams.get_end_position()"
   ]
  },
  {
   "cell_type": "code",
   "execution_count": 101,
   "metadata": {},
   "outputs": [],
   "source": [
    "ams.set_start_position(0)"
   ]
  },
  {
   "cell_type": "code",
   "execution_count": 7,
   "metadata": {},
   "outputs": [],
   "source": [
    "ams.set_end_position(4095)"
   ]
  },
  {
   "cell_type": "code",
   "execution_count": 21,
   "metadata": {},
   "outputs": [
    {
     "data": {
      "text/plain": [
       "255"
      ]
     },
     "execution_count": 21,
     "metadata": {},
     "output_type": "execute_result"
    }
   ],
   "source": [
    "ams.get_agc()"
   ]
  },
  {
   "cell_type": "code",
   "execution_count": 24,
   "metadata": {},
   "outputs": [],
   "source": [
    "motor.stop()"
   ]
  },
  {
   "cell_type": "code",
   "execution_count": 29,
   "metadata": {},
   "outputs": [],
   "source": [
    "def rotate_round(off=0.0, threshold=1.0, its=20, speed=1.0):\n",
    "#     display(HTML(\"angle\"), display_id=\"angle\")\n",
    "    secs = 0.2\n",
    "    st = time.time()\n",
    "    target = ams.get_deg_angle(degoffset=off)\n",
    "    alphas = []\n",
    "    times = []\n",
    "    i = 0\n",
    "    try:\n",
    "        while True:\n",
    "            itstart = time.time()\n",
    "            times.append(itstart-st)\n",
    "            alpha = ams.get_deg_angle(degoffset=off)\n",
    "            alphas.append(alpha)\n",
    "            d = target-alpha\n",
    "            d2 = d + 360.0\n",
    "            dist = d if abs(d) < abs(d2) else d2\n",
    "            fwd = True\n",
    "\n",
    "#             update_display(HTML(f\"<font size=72>{alpha:.2f} ({dist:.2f})</font>\"), display_id=\"angle\")\n",
    "            if i >= its and abs(dist) < threshold:\n",
    "                motor.stop()\n",
    "                break\n",
    "            motor.forward(speed)\n",
    "\n",
    "            i += 1\n",
    "            waitfor = secs - (time.time() - itstart)\n",
    "            if waitfor > 0:\n",
    "                sleep(waitfor)\n",
    "            else:\n",
    "                print(f\"negative sleep time: {waitfor}\")\n",
    "    except Exception as e:\n",
    "        print(\"Interrupted!\")\n",
    "        print(e)\n",
    "        motor.stop()\n",
    "    return alphas, times"
   ]
  },
  {
   "cell_type": "code",
   "execution_count": 64,
   "metadata": {},
   "outputs": [
    {
     "data": {
      "text/html": [
       "<font size=72>0.09 (-0.09)</font>"
      ],
      "text/plain": [
       "<IPython.core.display.HTML object>"
      ]
     },
     "metadata": {},
     "output_type": "display_data"
    },
    {
     "data": {
      "text/html": [
       "<font size=72>0.09 (-0.09)</font>"
      ],
      "text/plain": [
       "<IPython.core.display.HTML object>"
      ]
     },
     "metadata": {},
     "output_type": "display_data"
    }
   ],
   "source": [
    "A, T = [], []\n",
    "for i in range(2):\n",
    "    rotate(target=0.0, off=off, threshold=0.3, speed=0.2)\n",
    "    alphas, times = rotate_round(off=off, speed=0.2, threshold=0.3)\n",
    "    A.append(alphas)\n",
    "    T.append(times)"
   ]
  },
  {
   "cell_type": "code",
   "execution_count": 68,
   "metadata": {},
   "outputs": [
    {
     "data": {
      "text/plain": [
       "1299"
      ]
     },
     "execution_count": 68,
     "metadata": {},
     "output_type": "execute_result"
    }
   ],
   "source": [
    "len(T[0])"
   ]
  },
  {
   "cell_type": "code",
   "execution_count": 65,
   "metadata": {},
   "outputs": [
    {
     "data": {
      "image/png": "[encoded data removed]",
      "text/plain": [
       "<Figure size 1152x648 with 1 Axes>"
      ]
     },
     "metadata": {
      "needs_background": "light"
     },
     "output_type": "display_data"
    }
   ],
   "source": [
    "plt.figure(figsize=(16, 9))\n",
    "for i in range(len(T)):\n",
    "    plt.plot(T[i], A[i]);"
   ]
  },
  {
   "cell_type": "code",
   "execution_count": 137,
   "metadata": {},
   "outputs": [
    {
     "data": {
      "image/png": "[encoded data removed]",
      "text/plain": [
       "<Figure size 1152x648 with 1 Axes>"
      ]
     },
     "metadata": {
      "needs_background": "light"
     },
     "output_type": "display_data"
    }
   ],
   "source": [
    "plt.figure(figsize=(16, 9))\n",
    "plt.plot([T[0][i]-T[0][i-1] for i in range(1, len(T[0]))]);"
   ]
  },
  {
   "cell_type": "code",
   "execution_count": 128,
   "metadata": {},
   "outputs": [
    {
     "data": {
      "image/png": "[encoded data removed]",
      "text/plain": [
       "<Figure size 1152x648 with 1 Axes>"
      ]
     },
     "metadata": {
      "needs_background": "light"
     },
     "output_type": "display_data"
    }
   ],
   "source": [
    "plt.figure(figsize=(16, 9))\n",
    "for i in range(len(T)):\n",
    "    plt.plot(T[i]);"
   ]
  },
  {
   "cell_type": "code",
   "execution_count": 10,
   "metadata": {},
   "outputs": [],
   "source": [
    "def rotate(target=0.0, off=0.0, threshold=1.0, speed=1.0):\n",
    "    display(HTML(\"angle\"), display_id=\"angle\")\n",
    "    secs = 0.1\n",
    "    st = time.time()\n",
    "    alphas = []\n",
    "    times = []\n",
    "    try:\n",
    "        while True:\n",
    "            alpha = ams.get_deg_angle(degoffset=off)\n",
    "            alphas.append(alpha)\n",
    "            times.append(time.time()-st)\n",
    "            d = target-alpha\n",
    "            d2 = d + 360.0\n",
    "            dist = d if abs(d) < abs(d2) else d2\n",
    "            fwd = dist > 0.0\n",
    "\n",
    "            update_display(HTML(f\"<font size=72>{alpha:.2f} ({dist:.2f})</font>\"), display_id=\"angle\")\n",
    "            if abs(dist) < threshold:\n",
    "                motor.stop()\n",
    "                break\n",
    "            if fwd:\n",
    "                motor.forward(speed)\n",
    "            else:\n",
    "                motor.backward(speed)\n",
    "            sleep(secs)\n",
    "    except:\n",
    "        print(\"Interrupted!\")\n",
    "        motor.stop()\n",
    "    return alphas, times"
   ]
  },
  {
   "cell_type": "code",
   "execution_count": 73,
   "metadata": {},
   "outputs": [
    {
     "data": {
      "text/html": [
       "<font size=72>0.09 (-0.09)</font>"
      ],
      "text/plain": [
       "<IPython.core.display.HTML object>"
      ]
     },
     "metadata": {},
     "output_type": "display_data"
    }
   ],
   "source": [
    "alphas, times = rotate(target=0.0, off=off, threshold=0.5)"
   ]
  },
  {
   "cell_type": "code",
   "execution_count": 72,
   "metadata": {},
   "outputs": [],
   "source": [
    "motor.forward(1)"
   ]
  },
  {
   "cell_type": "code",
   "execution_count": 61,
   "metadata": {},
   "outputs": [],
   "source": [
    "motor.backward(0.1)"
   ]
  },
  {
   "cell_type": "code",
   "execution_count": 62,
   "metadata": {},
   "outputs": [],
   "source": [
    "motor.stop()"
   ]
  },
  {
   "cell_type": "code",
   "execution_count": 48,
   "metadata": {},
   "outputs": [
    {
     "data": {
      "image/png": "[encoded data removed]",
      "text/plain": [
       "<Figure size 432x288 with 1 Axes>"
      ]
     },
     "metadata": {
      "needs_background": "light"
     },
     "output_type": "display_data"
    }
   ],
   "source": [
    "plt.plot(times, alphas);"
   ]
  },
  {
   "cell_type": "code",
   "execution_count": 58,
   "metadata": {},
   "outputs": [
    {
     "data": {
      "text/plain": [
       "271.494140625"
      ]
     },
     "execution_count": 58,
     "metadata": {},
     "output_type": "execute_result"
    }
   ],
   "source": [
    "ams.get_deg_angle(off)"
   ]
  },
  {
   "cell_type": "code",
   "execution_count": 63,
   "metadata": {},
   "outputs": [
    {
     "data": {
      "text/plain": [
       "177.890625"
      ]
     },
     "execution_count": 63,
     "metadata": {},
     "output_type": "execute_result"
    }
   ],
   "source": [
    "off = ams.get_deg_angle()\n",
    "off"
   ]
  },
  {
   "cell_type": "code",
   "execution_count": 10,
   "metadata": {},
   "outputs": [
    {
     "data": {
      "text/html": [
       "<font size=72>255</font>"
      ],
      "text/plain": [
       "<IPython.core.display.HTML object>"
      ]
     },
     "metadata": {},
     "output_type": "display_data"
    },
    {
     "ename": "KeyboardInterrupt",
     "evalue": "",
     "output_type": "error",
     "traceback": [
      "\u001b[0;31m---------------------------------------------------------------------------\u001b[0m",
      "\u001b[0;31mKeyboardInterrupt\u001b[0m                         Traceback (most recent call last)",
      "\u001b[0;32m<ipython-input-10-5a5b54822704>\u001b[0m in \u001b[0;36m<module>\u001b[0;34m\u001b[0m\n\u001b[1;32m      5\u001b[0m \u001b[0;31m#     print(ra, end='\\r')\u001b[0m\u001b[0;34m\u001b[0m\u001b[0;34m\u001b[0m\u001b[0;34m\u001b[0m\u001b[0m\n\u001b[1;32m      6\u001b[0m     \u001b[0mupdate_display\u001b[0m\u001b[0;34m(\u001b[0m\u001b[0mHTML\u001b[0m\u001b[0;34m(\u001b[0m\u001b[0;34mf\"<font size=72>{agc}</font>\"\u001b[0m\u001b[0;34m)\u001b[0m\u001b[0;34m,\u001b[0m \u001b[0mdisplay_id\u001b[0m\u001b[0;34m=\u001b[0m\u001b[0;34m\"agc\"\u001b[0m\u001b[0;34m)\u001b[0m\u001b[0;34m\u001b[0m\u001b[0;34m\u001b[0m\u001b[0m\n\u001b[0;32m----> 7\u001b[0;31m     \u001b[0mtime\u001b[0m\u001b[0;34m.\u001b[0m\u001b[0msleep\u001b[0m\u001b[0;34m(\u001b[0m\u001b[0;36m0.1\u001b[0m\u001b[0;34m)\u001b[0m\u001b[0;34m\u001b[0m\u001b[0;34m\u001b[0m\u001b[0m\n\u001b[0m",
      "\u001b[0;31mKeyboardInterrupt\u001b[0m: "
     ]
    }
   ],
   "source": [
    "display(HTML(\"agc\"), display_id=\"agc\")\n",
    "\n",
    "while True:\n",
    "    agc = ams.get_agc()\n",
    "#     print(ra, end='\\r')\n",
    "    update_display(HTML(f\"<font size=72>{agc}</font>\"), display_id=\"agc\")\n",
    "    time.sleep(0.1)"
   ]
  },
  {
   "cell_type": "markdown",
   "metadata": {},
   "source": [
    "# MPU6050"
   ]
  },
  {
   "cell_type": "code",
   "execution_count": 2,
   "metadata": {},
   "outputs": [],
   "source": [
    "from mpu6050 import mpu6050"
   ]
  },
  {
   "cell_type": "code",
   "execution_count": 3,
   "metadata": {},
   "outputs": [],
   "source": [
    "sensor = mpu6050(0x68)"
   ]
  },
  {
   "cell_type": "code",
   "execution_count": 8,
   "metadata": {},
   "outputs": [
    {
     "data": {
      "text/plain": [
       "{'x': -2.1116858642578125, 'y': 1.1540052001953125, 'z': 10.062829577636718}"
      ]
     },
     "execution_count": 8,
     "metadata": {},
     "output_type": "execute_result"
    }
   ],
   "source": [
    "sensor.get_accel_data()"
   ]
  },
  {
   "cell_type": "code",
   "execution_count": 13,
   "metadata": {},
   "outputs": [
    {
     "data": {
      "text/plain": [
       "{'x': -2.236641221374046, 'y': -0.9847328244274809, 'z': -1.2748091603053435}"
      ]
     },
     "execution_count": 13,
     "metadata": {},
     "output_type": "execute_result"
    }
   ],
   "source": [
    "sensor.get_gyro_data()"
   ]
  },
  {
   "cell_type": "code",
   "execution_count": 8,
   "metadata": {},
   "outputs": [],
   "source": [
    "import smbus"
   ]
  },
  {
   "cell_type": "code",
   "execution_count": 12,
   "metadata": {},
   "outputs": [
    {
     "data": {
      "text/plain": [
       "23.73"
      ]
     },
     "execution_count": 12,
     "metadata": {},
     "output_type": "execute_result"
    }
   ],
   "source": [
    "def read_mpu6050():\n",
    "    bus = 1\n",
    "    address = 0x68\n",
    "    \n",
    "    # MPU-6050 Registers\n",
    "    PWR_MGMT_1 = 0x6B\n",
    "    PWR_MGMT_2 = 0x6C\n",
    "\n",
    "    ACCEL_XOUT0 = 0x3B\n",
    "    ACCEL_YOUT0 = 0x3D\n",
    "    ACCEL_ZOUT0 = 0x3F\n",
    "\n",
    "    TEMP_OUT0 = 0x41\n",
    "\n",
    "    GYRO_XOUT0 = 0x43\n",
    "    GYRO_YOUT0 = 0x45\n",
    "    GYRO_ZOUT0 = 0x47\n",
    "\n",
    "    ACCEL_CONFIG = 0x1C\n",
    "    GYRO_CONFIG = 0x1B\n",
    "    \n",
    "    bus = smbus.SMBus(bus)\n",
    "    bus.write_byte_data(address, PWR_MGMT_1, 0x00)\n",
    "    \n",
    "    def read_i2c_word(register):\n",
    "        # Read the data from the registers\n",
    "        high = bus.read_byte_data(address, register)\n",
    "        low = bus.read_byte_data(address, register + 1)\n",
    "\n",
    "        value = (high << 8) + low\n",
    "\n",
    "        if (value >= 0x8000):\n",
    "            return -((65535 - value) + 1)\n",
    "        else:\n",
    "            return value\n",
    "        \n",
    "    raw_temp = read_i2c_word(TEMP_OUT0)\n",
    "    actual_temp = (raw_temp / 340.0) + 36.53\n",
    "    return actual_temp\n",
    "\n",
    "read_mpu6050()"
   ]
  },
  {
   "cell_type": "markdown",
   "metadata": {},
   "source": [
    "# TEST"
   ]
  },
  {
   "cell_type": "code",
   "execution_count": 2,
   "metadata": {},
   "outputs": [],
   "source": [
    "import Adafruit_GPIO.SPI as SPI\n",
    "import Adafruit_SSD1306"
   ]
  },
  {
   "cell_type": "code",
   "execution_count": 7,
   "metadata": {},
   "outputs": [
    {
     "ename": "SystemError",
     "evalue": "error return without exception set",
     "output_type": "error",
     "traceback": [
      "\u001b[0;31m---------------------------------------------------------------------------\u001b[0m",
      "\u001b[0;31mSystemError\u001b[0m                               Traceback (most recent call last)",
      "\u001b[0;32m<ipython-input-7-c0262bd3ebe5>\u001b[0m in \u001b[0;36m<module>\u001b[0;34m\u001b[0m\n\u001b[1;32m      3\u001b[0m \u001b[0mSPI_PORT\u001b[0m \u001b[0;34m=\u001b[0m \u001b[0;36m0\u001b[0m\u001b[0;34m\u001b[0m\u001b[0;34m\u001b[0m\u001b[0m\n\u001b[1;32m      4\u001b[0m \u001b[0mSPI_DEVICE\u001b[0m \u001b[0;34m=\u001b[0m \u001b[0;36m0\u001b[0m\u001b[0;34m\u001b[0m\u001b[0;34m\u001b[0m\u001b[0m\n\u001b[0;32m----> 5\u001b[0;31m \u001b[0mdisp\u001b[0m \u001b[0;34m=\u001b[0m \u001b[0mAdafruit_SSD1306\u001b[0m\u001b[0;34m.\u001b[0m\u001b[0mSSD1306_128_64\u001b[0m\u001b[0;34m(\u001b[0m\u001b[0mrst\u001b[0m\u001b[0;34m=\u001b[0m\u001b[0mRST\u001b[0m\u001b[0;34m,\u001b[0m \u001b[0mdc\u001b[0m\u001b[0;34m=\u001b[0m\u001b[0mDC\u001b[0m\u001b[0;34m,\u001b[0m \u001b[0mspi\u001b[0m\u001b[0;34m=\u001b[0m\u001b[0mSPI\u001b[0m\u001b[0;34m.\u001b[0m\u001b[0mSpiDev\u001b[0m\u001b[0;34m(\u001b[0m\u001b[0mSPI_PORT\u001b[0m\u001b[0;34m,\u001b[0m \u001b[0mSPI_DEVICE\u001b[0m\u001b[0;34m,\u001b[0m \u001b[0mmax_speed_hz\u001b[0m\u001b[0;34m=\u001b[0m\u001b[0;36m8000000\u001b[0m\u001b[0;34m)\u001b[0m\u001b[0;34m)\u001b[0m\u001b[0;34m\u001b[0m\u001b[0;34m\u001b[0m\u001b[0m\n\u001b[0m",
      "\u001b[0;32m~/.local/lib/python3.7/site-packages/Adafruit_GPIO-1.0.4-py3.7.egg/Adafruit_GPIO/SPI.py\u001b[0m in \u001b[0;36m__init__\u001b[0;34m(self, port, device, max_speed_hz)\u001b[0m\n\u001b[1;32m     44\u001b[0m         \u001b[0;31m# Default to mode 0, and make sure CS is active low.\u001b[0m\u001b[0;34m\u001b[0m\u001b[0;34m\u001b[0m\u001b[0;34m\u001b[0m\u001b[0m\n\u001b[1;32m     45\u001b[0m         \u001b[0mself\u001b[0m\u001b[0;34m.\u001b[0m\u001b[0m_device\u001b[0m\u001b[0;34m.\u001b[0m\u001b[0mmode\u001b[0m \u001b[0;34m=\u001b[0m \u001b[0;36m0\u001b[0m\u001b[0;34m\u001b[0m\u001b[0;34m\u001b[0m\u001b[0m\n\u001b[0;32m---> 46\u001b[0;31m         \u001b[0mself\u001b[0m\u001b[0;34m.\u001b[0m\u001b[0m_device\u001b[0m\u001b[0;34m.\u001b[0m\u001b[0mcshigh\u001b[0m \u001b[0;34m=\u001b[0m \u001b[0;32mFalse\u001b[0m\u001b[0;34m\u001b[0m\u001b[0;34m\u001b[0m\u001b[0m\n\u001b[0m\u001b[1;32m     47\u001b[0m \u001b[0;34m\u001b[0m\u001b[0m\n\u001b[1;32m     48\u001b[0m     \u001b[0;32mdef\u001b[0m \u001b[0mset_clock_hz\u001b[0m\u001b[0;34m(\u001b[0m\u001b[0mself\u001b[0m\u001b[0;34m,\u001b[0m \u001b[0mhz\u001b[0m\u001b[0;34m)\u001b[0m\u001b[0;34m:\u001b[0m\u001b[0;34m\u001b[0m\u001b[0;34m\u001b[0m\u001b[0m\n",
      "\u001b[0;31mSystemError\u001b[0m: error return without exception set"
     ]
    }
   ],
   "source": [
    "RST = 24\n",
    "DC = 23\n",
    "SPI_PORT = 0\n",
    "SPI_DEVICE = 0\n",
    "disp = Adafruit_SSD1306.SSD1306_128_64(rst=RST, dc=DC, spi=SPI.SpiDev(SPI_PORT, SPI_DEVICE, max_speed_hz=8000000))"
   ]
  },
  {
   "cell_type": "code",
   "execution_count": 4,
   "metadata": {},
   "outputs": [
    {
     "ename": "NameError",
     "evalue": "name 'disp' is not defined",
     "output_type": "error",
     "traceback": [
      "\u001b[0;31m---------------------------------------------------------------------------\u001b[0m",
      "\u001b[0;31mNameError\u001b[0m                                 Traceback (most recent call last)",
      "\u001b[0;32m<ipython-input-4-066abe674e03>\u001b[0m in \u001b[0;36m<module>\u001b[0;34m\u001b[0m\n\u001b[0;32m----> 1\u001b[0;31m \u001b[0mdisp\u001b[0m\u001b[0;34m.\u001b[0m\u001b[0mbegin\u001b[0m\u001b[0;34m(\u001b[0m\u001b[0;34m)\u001b[0m\u001b[0;34m\u001b[0m\u001b[0;34m\u001b[0m\u001b[0m\n\u001b[0m",
      "\u001b[0;31mNameError\u001b[0m: name 'disp' is not defined"
     ]
    }
   ],
   "source": [
    "disp.begin()"
   ]
  },
  {
   "cell_type": "code",
   "execution_count": null,
   "metadata": {},
   "outputs": [],
   "source": []
  }
 ],
 "metadata": {
  "kernelspec": {
   "display_name": "Python 3",
   "language": "python",
   "name": "python3"
  },
  "language_info": {
   "codemirror_mode": {
    "name": "ipython",
    "version": 3
   },
   "file_extension": ".py",
   "mimetype": "text/x-python",
   "name": "python",
   "nbconvert_exporter": "python",
   "pygments_lexer": "ipython3",
   "version": "3.7.3"
  }
 },
 "nbformat": 4,
 "nbformat_minor": 4
}
